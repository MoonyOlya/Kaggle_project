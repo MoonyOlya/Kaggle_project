{
 "cells": [
  {
   "cell_type": "code",
   "execution_count": 13,
   "id": "958a12c8",
   "metadata": {},
   "outputs": [],
   "source": [
    "import os\n",
    "import random\n",
    "from kaggle.api.kaggle_api_extended import KaggleApi\n"
   ]
  },
  {
   "cell_type": "code",
   "execution_count": 20,
   "id": "c5823432",
   "metadata": {},
   "outputs": [],
   "source": [
    "def get_kaggle_dataset():\n",
    "    \"\"\"pick a random dataset from kaggle - Does NOT download data (yet)\"\"\"\n",
    "    #connect to Kaggle\n",
    "    api = KaggleApi()\n",
    "    api.authenticate()\n",
    " \n",
    "    \n",
    "    #get info about all the datasets\n",
    "    \n",
    "    datasets = api.dataset_list()\n",
    "    \n",
    "    #randomly pick one\n",
    "    dataset = random.choice(datasets)\n",
    "    \n",
    "    #print basic information about the dataset\n",
    "    \n",
    "    print(f\"Selected dataset: {dataset.title}\")\n",
    "    print(f\"Description: {dataset.subtitle}\")\n",
    "    return dataset\n",
    "    "
   ]
  },
  {
   "cell_type": "code",
   "execution_count": 28,
   "id": "442d0e13",
   "metadata": {},
   "outputs": [
    {
     "name": "stdout",
     "output_type": "stream",
     "text": [
      "Selected dataset: Credit Card Fraud data\n",
      "Description: Binary dataset of Credit Card Fraud\n"
     ]
    }
   ],
   "source": [
    "testdata= get_kaggle_dataset()"
   ]
  },
  {
   "cell_type": "code",
   "execution_count": 29,
   "id": "97328ea5",
   "metadata": {},
   "outputs": [
    {
     "data": {
      "text/plain": [
       "[finance]"
      ]
     },
     "execution_count": 29,
     "metadata": {},
     "output_type": "execute_result"
    }
   ],
   "source": [
    "testdata.tags"
   ]
  },
  {
   "cell_type": "code",
   "execution_count": null,
   "id": "2e0c53cd",
   "metadata": {},
   "outputs": [],
   "source": [
    "\n"
   ]
  },
  {
   "cell_type": "code",
   "execution_count": null,
   "id": "3d28c635",
   "metadata": {},
   "outputs": [],
   "source": []
  }
 ],
 "metadata": {
  "kernelspec": {
   "display_name": "Python 3 (ipykernel)",
   "language": "python",
   "name": "python3"
  },
  "language_info": {
   "codemirror_mode": {
    "name": "ipython",
    "version": 3
   },
   "file_extension": ".py",
   "mimetype": "text/x-python",
   "name": "python",
   "nbconvert_exporter": "python",
   "pygments_lexer": "ipython3",
   "version": "3.7.3"
  }
 },
 "nbformat": 4,
 "nbformat_minor": 5
}
